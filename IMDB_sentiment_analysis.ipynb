{
  "nbformat": 4,
  "nbformat_minor": 0,
  "metadata": {
    "colab": {
      "name": "IMDB_sentiment_analysis",
      "provenance": [],
      "collapsed_sections": [],
      "toc_visible": true,
      "include_colab_link": true
    },
    "kernelspec": {
      "display_name": "Python 3",
      "name": "python3"
    }
  },
  "cells": [
    {
      "cell_type": "markdown",
      "metadata": {
        "id": "view-in-github",
        "colab_type": "text"
      },
      "source": [
        "<a href=\"https://colab.research.google.com/github/safal25/ml_basic_codes/blob/main/IMDB_sentiment_analysis.ipynb\" target=\"_parent\"><img src=\"https://colab.research.google.com/assets/colab-badge.svg\" alt=\"Open In Colab\"/></a>"
      ]
    },
    {
      "cell_type": "code",
      "metadata": {
        "id": "DzJqzHv-LceW"
      },
      "source": [
        "#importing the necessary libraries\r\n",
        "import tensorflow as tf"
      ],
      "execution_count": 1,
      "outputs": []
    },
    {
      "cell_type": "code",
      "metadata": {
        "id": "54C8Oca0LlVR"
      },
      "source": [
        "import tensorflow.keras as keras\n",
        "import numpy as np\n",
        "import pandas as pd\n",
        "import matplotlib.pyplot as plt\n"
      ],
      "execution_count": 2,
      "outputs": []
    },
    {
      "cell_type": "code",
      "metadata": {
        "id": "zzeYr85gL5F9"
      },
      "source": [
        "imdb = keras.datasets.imdb"
      ],
      "execution_count": 3,
      "outputs": []
    },
    {
      "cell_type": "code",
      "metadata": {
        "id": "3eREqYXkL_Qd",
        "colab": {
          "base_uri": "https://localhost:8080/"
        },
        "outputId": "a23ceafb-6351-4c37-b437-d35bdaebb383"
      },
      "source": [
        "#downloading the dataset\n",
        "#splitting the data into train and test data\n",
        "vocab_size=10000\n",
        "(train_data,train_labels),(test_data,test_labels)=imdb.load_data(num_words=vocab_size)"
      ],
      "execution_count": 4,
      "outputs": [
        {
          "output_type": "stream",
          "text": [
            "Downloading data from https://storage.googleapis.com/tensorflow/tf-keras-datasets/imdb.npz\n",
            "17465344/17464789 [==============================] - 0s 0us/step\n"
          ],
          "name": "stdout"
        },
        {
          "output_type": "stream",
          "text": [
            "<string>:6: VisibleDeprecationWarning: Creating an ndarray from ragged nested sequences (which is a list-or-tuple of lists-or-tuples-or ndarrays with different lengths or shapes) is deprecated. If you meant to do this, you must specify 'dtype=object' when creating the ndarray\n",
            "/usr/local/lib/python3.6/dist-packages/tensorflow/python/keras/datasets/imdb.py:159: VisibleDeprecationWarning: Creating an ndarray from ragged nested sequences (which is a list-or-tuple of lists-or-tuples-or ndarrays with different lengths or shapes) is deprecated. If you meant to do this, you must specify 'dtype=object' when creating the ndarray\n",
            "  x_train, y_train = np.array(xs[:idx]), np.array(labels[:idx])\n",
            "/usr/local/lib/python3.6/dist-packages/tensorflow/python/keras/datasets/imdb.py:160: VisibleDeprecationWarning: Creating an ndarray from ragged nested sequences (which is a list-or-tuple of lists-or-tuples-or ndarrays with different lengths or shapes) is deprecated. If you meant to do this, you must specify 'dtype=object' when creating the ndarray\n",
            "  x_test, y_test = np.array(xs[idx:]), np.array(labels[idx:])\n"
          ],
          "name": "stderr"
        }
      ]
    },
    {
      "cell_type": "code",
      "metadata": {
        "id": "_jTuKOiQMdwS",
        "colab": {
          "base_uri": "https://localhost:8080/"
        },
        "outputId": "2d7f0143-a672-45cb-f95a-c4bf973df463"
      },
      "source": [
        "#the dataset is already integer encoded so we need to download the mapping of words to integers\n",
        "word_index=imdb.get_word_index()\n",
        "\n",
        "word_index={k:(v+3) for k,v in word_index.items()}"
      ],
      "execution_count": 5,
      "outputs": [
        {
          "output_type": "stream",
          "text": [
            "Downloading data from https://storage.googleapis.com/tensorflow/tf-keras-datasets/imdb_word_index.json\n",
            "1646592/1641221 [==============================] - 0s 0us/step\n"
          ],
          "name": "stdout"
        }
      ]
    },
    {
      "cell_type": "code",
      "metadata": {
        "id": "zzwuStygMyep"
      },
      "source": [
        "word_index[\"<PAD>\"]=0\n",
        "word_index[\"<START\"]=1\n",
        "word_index[\"<UNK>\"]=2\n",
        "word_index[\"<UNUSED>\"]=3"
      ],
      "execution_count": 6,
      "outputs": []
    },
    {
      "cell_type": "code",
      "metadata": {
        "id": "J0lvRlsyNb5i"
      },
      "source": [
        "#checking the mapping\n",
        "s=[\"the\",\"movie\",\"was\",\"beautiful\"]\n",
        "arr=[word_index[k] for k in s]"
      ],
      "execution_count": 7,
      "outputs": []
    },
    {
      "cell_type": "code",
      "metadata": {
        "id": "XSzoMT5gN21c",
        "colab": {
          "base_uri": "https://localhost:8080/"
        },
        "outputId": "5c8e7547-75bf-4168-f9b0-6db4de3a07a6"
      },
      "source": [
        "arr"
      ],
      "execution_count": 8,
      "outputs": [
        {
          "output_type": "execute_result",
          "data": {
            "text/plain": [
              "[4, 20, 16, 307]"
            ]
          },
          "metadata": {
            "tags": []
          },
          "execution_count": 8
        }
      ]
    },
    {
      "cell_type": "code",
      "metadata": {
        "id": "RSV6uJhwN7y9"
      },
      "source": [
        "#creating another mapping from integers to words\r\n",
        "reverse_word_index=dict([(value,key) for key,value in word_index.items()])"
      ],
      "execution_count": null,
      "outputs": []
    },
    {
      "cell_type": "code",
      "metadata": {
        "id": "VdpME3ejOQw7"
      },
      "source": [
        "#as mentioned above the dataset has already been integer encoded\n",
        "#The decode_review function just helps us to decode an integer encoded review back to the text format\n",
        "def decode_review(text):\n",
        "\n",
        "  return \" \".join([reverse_word_index.get(i,'?') for i in text])\n",
        "\n",
        "review=decode_review(train_data[0])"
      ],
      "execution_count": null,
      "outputs": []
    },
    {
      "cell_type": "code",
      "metadata": {
        "id": "cv7_I_xQOuo4",
        "colab": {
          "base_uri": "https://localhost:8080/"
        },
        "outputId": "7a09013b-4db3-449c-ffaf-b9269c59bbc0"
      },
      "source": [
        "#printing the first review in training dataset\n",
        "for i in review:\n",
        "  print(i,end='')"
      ],
      "execution_count": null,
      "outputs": [
        {
          "output_type": "stream",
          "text": [
            "<START this film was just brilliant casting location scenery story direction everyone's really suited the part they played and you could just imagine being there robert <UNK> is an amazing actor and now the same being director <UNK> father came from the same scottish island as myself so i loved the fact there was a real connection with this film the witty remarks throughout the film were great it was just brilliant so much that i bought the film as soon as it was released for <UNK> and would recommend it to everyone to watch and the fly fishing was amazing really cried at the end it was so sad and you know what they say if you cry at a film it must have been good and this definitely was also <UNK> to the two little boy's that played the <UNK> of norman and paul they were just brilliant children are often left out of the <UNK> list i think because the stars that play them all grown up are such a big profile for the whole film but these children are amazing and should be praised for what they have done don't you think the whole story was so lovely because it was true and was someone's life after all that was shared with us all"
          ],
          "name": "stdout"
        }
      ]
    },
    {
      "cell_type": "code",
      "metadata": {
        "id": "CHEVR3TbPE_1"
      },
      "source": [
        "#length of each review should be equal for the model to be working correctly\n",
        "#We have chosen the length of each review to be 500\n",
        "#If the review is longer than 500 words we are going to cut the extra part and if it has less number of words\n",
        "#we are going to pad the review with zeros to make its length 500\n",
        "train_data=keras.preprocessing.sequence.pad_sequences(train_data,value=word_index[\"<PAD>\"],padding='post',maxlen=500)\n",
        "test_data=keras.preprocessing.sequence.pad_sequences(test_data,value=word_index[\"<PAD>\"],padding='post',maxlen=500)"
      ],
      "execution_count": 10,
      "outputs": []
    },
    {
      "cell_type": "code",
      "metadata": {
        "id": "D1WDSfAIPs31"
      },
      "source": [
        "#building the model\n",
        "#It consits of one word embedding layer which creates word embeddings of length 16 from integer encoded review\n",
        "#second layer is global average pooling layer\n",
        "#then a dense layer which has 16 hidden units and uses relu as activation function\n",
        "#and the final output layer which uses sigmoid as activation function\n",
        "\n",
        "model=keras.Sequential([keras.layers.Embedding(vocab_size,16,input_length=500),\n",
        "                        keras.layers.GlobalAveragePooling1D(),\n",
        "                        keras.layers.Dense(16,activation='relu'),\n",
        "                        keras.layers.Dense(1,activation='sigmoid')])"
      ],
      "execution_count": 9,
      "outputs": []
    },
    {
      "cell_type": "code",
      "metadata": {
        "id": "JPsQuds5QYud"
      },
      "source": [
        "#compiling the model\r\n",
        "#adam is used as optimization function for the above model\r\n",
        "#binary cross entropy loss function is used as loss function\r\n",
        "#accuracy is used as the metric to evaluate the model\r\n",
        "model.compile(optimizer='adam',loss='binary_crossentropy',metrics=['accuracy'])"
      ],
      "execution_count": 11,
      "outputs": []
    },
    {
      "cell_type": "code",
      "metadata": {
        "id": "YxUCLcRJQmBB",
        "colab": {
          "base_uri": "https://localhost:8080/"
        },
        "outputId": "42369595-adfa-4931-b2ba-2e2c18977777"
      },
      "source": [
        "#training the model\r\n",
        "history=model.fit(train_data,train_labels,epochs=30,batch_size=512,validation_data=(test_data,test_labels))"
      ],
      "execution_count": 12,
      "outputs": [
        {
          "output_type": "stream",
          "text": [
            "Epoch 1/30\n",
            "49/49 [==============================] - 3s 40ms/step - loss: 0.6927 - accuracy: 0.5296 - val_loss: 0.6903 - val_accuracy: 0.5047\n",
            "Epoch 2/30\n",
            "49/49 [==============================] - 2s 31ms/step - loss: 0.6880 - accuracy: 0.6077 - val_loss: 0.6795 - val_accuracy: 0.7226\n",
            "Epoch 3/30\n",
            "49/49 [==============================] - 2s 31ms/step - loss: 0.6716 - accuracy: 0.7263 - val_loss: 0.6501 - val_accuracy: 0.7642\n",
            "Epoch 4/30\n",
            "49/49 [==============================] - 2s 32ms/step - loss: 0.6334 - accuracy: 0.7739 - val_loss: 0.5988 - val_accuracy: 0.7878\n",
            "Epoch 5/30\n",
            "49/49 [==============================] - 2s 35ms/step - loss: 0.5745 - accuracy: 0.8001 - val_loss: 0.5383 - val_accuracy: 0.8066\n",
            "Epoch 6/30\n",
            "49/49 [==============================] - 2s 32ms/step - loss: 0.5066 - accuracy: 0.8305 - val_loss: 0.4813 - val_accuracy: 0.8315\n",
            "Epoch 7/30\n",
            "49/49 [==============================] - 2s 32ms/step - loss: 0.4451 - accuracy: 0.8505 - val_loss: 0.4333 - val_accuracy: 0.8458\n",
            "Epoch 8/30\n",
            "49/49 [==============================] - 2s 32ms/step - loss: 0.3970 - accuracy: 0.8652 - val_loss: 0.3972 - val_accuracy: 0.8552\n",
            "Epoch 9/30\n",
            "49/49 [==============================] - 2s 32ms/step - loss: 0.3568 - accuracy: 0.8811 - val_loss: 0.3703 - val_accuracy: 0.8624\n",
            "Epoch 10/30\n",
            "49/49 [==============================] - 2s 32ms/step - loss: 0.3240 - accuracy: 0.8911 - val_loss: 0.3504 - val_accuracy: 0.8682\n",
            "Epoch 11/30\n",
            "49/49 [==============================] - 2s 33ms/step - loss: 0.3007 - accuracy: 0.8977 - val_loss: 0.3352 - val_accuracy: 0.8714\n",
            "Epoch 12/30\n",
            "49/49 [==============================] - 2s 32ms/step - loss: 0.2848 - accuracy: 0.9015 - val_loss: 0.3236 - val_accuracy: 0.8748\n",
            "Epoch 13/30\n",
            "49/49 [==============================] - 2s 32ms/step - loss: 0.2627 - accuracy: 0.9095 - val_loss: 0.3153 - val_accuracy: 0.8764\n",
            "Epoch 14/30\n",
            "49/49 [==============================] - 2s 33ms/step - loss: 0.2500 - accuracy: 0.9108 - val_loss: 0.3073 - val_accuracy: 0.8786\n",
            "Epoch 15/30\n",
            "49/49 [==============================] - 2s 33ms/step - loss: 0.2429 - accuracy: 0.9164 - val_loss: 0.3017 - val_accuracy: 0.8808\n",
            "Epoch 16/30\n",
            "49/49 [==============================] - 2s 33ms/step - loss: 0.2309 - accuracy: 0.9196 - val_loss: 0.2972 - val_accuracy: 0.8816\n",
            "Epoch 17/30\n",
            "49/49 [==============================] - 2s 32ms/step - loss: 0.2192 - accuracy: 0.9236 - val_loss: 0.2932 - val_accuracy: 0.8837\n",
            "Epoch 18/30\n",
            "49/49 [==============================] - 2s 32ms/step - loss: 0.2095 - accuracy: 0.9259 - val_loss: 0.2917 - val_accuracy: 0.8830\n",
            "Epoch 19/30\n",
            "49/49 [==============================] - 2s 33ms/step - loss: 0.2016 - accuracy: 0.9320 - val_loss: 0.2882 - val_accuracy: 0.8850\n",
            "Epoch 20/30\n",
            "49/49 [==============================] - 2s 33ms/step - loss: 0.1893 - accuracy: 0.9365 - val_loss: 0.2870 - val_accuracy: 0.8856\n",
            "Epoch 21/30\n",
            "49/49 [==============================] - 2s 32ms/step - loss: 0.1868 - accuracy: 0.9355 - val_loss: 0.2861 - val_accuracy: 0.8863\n",
            "Epoch 22/30\n",
            "49/49 [==============================] - 2s 33ms/step - loss: 0.1807 - accuracy: 0.9389 - val_loss: 0.2868 - val_accuracy: 0.8860\n",
            "Epoch 23/30\n",
            "49/49 [==============================] - 2s 33ms/step - loss: 0.1720 - accuracy: 0.9427 - val_loss: 0.2856 - val_accuracy: 0.8862\n",
            "Epoch 24/30\n",
            "49/49 [==============================] - 2s 33ms/step - loss: 0.1699 - accuracy: 0.9438 - val_loss: 0.2879 - val_accuracy: 0.8863\n",
            "Epoch 25/30\n",
            "49/49 [==============================] - 2s 33ms/step - loss: 0.1646 - accuracy: 0.9470 - val_loss: 0.2866 - val_accuracy: 0.8864\n",
            "Epoch 26/30\n",
            "49/49 [==============================] - 2s 33ms/step - loss: 0.1587 - accuracy: 0.9464 - val_loss: 0.2874 - val_accuracy: 0.8858\n",
            "Epoch 27/30\n",
            "49/49 [==============================] - 2s 32ms/step - loss: 0.1543 - accuracy: 0.9482 - val_loss: 0.2898 - val_accuracy: 0.8857\n",
            "Epoch 28/30\n",
            "49/49 [==============================] - 2s 33ms/step - loss: 0.1493 - accuracy: 0.9519 - val_loss: 0.2897 - val_accuracy: 0.8862\n",
            "Epoch 29/30\n",
            "49/49 [==============================] - 2s 33ms/step - loss: 0.1470 - accuracy: 0.9512 - val_loss: 0.2922 - val_accuracy: 0.8852\n",
            "Epoch 30/30\n",
            "49/49 [==============================] - 2s 32ms/step - loss: 0.1442 - accuracy: 0.9519 - val_loss: 0.2946 - val_accuracy: 0.8848\n"
          ],
          "name": "stdout"
        }
      ]
    },
    {
      "cell_type": "code",
      "metadata": {
        "id": "aHLzEJI-RCWF",
        "colab": {
          "base_uri": "https://localhost:8080/"
        },
        "outputId": "a0ecc907-9732-4046-e41f-92e093ce41fa"
      },
      "source": [
        "#evaluating the loss and accuracy on testing data\r\n",
        "#the model shows an accuracy of 88.48% on test data\r\n",
        "loss,accuracy=model.evaluate(test_data,test_labels)"
      ],
      "execution_count": 13,
      "outputs": [
        {
          "output_type": "stream",
          "text": [
            "782/782 [==============================] - 1s 2ms/step - loss: 0.2946 - accuracy: 0.8848\n"
          ],
          "name": "stdout"
        }
      ]
    },
    {
      "cell_type": "code",
      "metadata": {
        "id": "35qdQW3ZTHzt",
        "colab": {
          "base_uri": "https://localhost:8080/"
        },
        "outputId": "90c8038d-e72a-4730-9cfb-3f6f26b6db5c"
      },
      "source": [
        "model.summary()"
      ],
      "execution_count": 24,
      "outputs": [
        {
          "output_type": "stream",
          "text": [
            "Model: \"sequential\"\n",
            "_________________________________________________________________\n",
            "Layer (type)                 Output Shape              Param #   \n",
            "=================================================================\n",
            "embedding (Embedding)        (None, 500, 16)           160000    \n",
            "_________________________________________________________________\n",
            "global_average_pooling1d (Gl (None, 16)                0         \n",
            "_________________________________________________________________\n",
            "dense (Dense)                (None, 16)                272       \n",
            "_________________________________________________________________\n",
            "dense_1 (Dense)              (None, 1)                 17        \n",
            "=================================================================\n",
            "Total params: 160,289\n",
            "Trainable params: 160,289\n",
            "Non-trainable params: 0\n",
            "_________________________________________________________________\n"
          ],
          "name": "stdout"
        }
      ]
    },
    {
      "cell_type": "code",
      "metadata": {
        "id": "oPIuAtvmWVg1"
      },
      "source": [
        "#copying a random review from imdb to test our model\n",
        "string=\"Scam 1992 The Harshad Mehta story is a brilliant web series directed by Hansal Mehta I have been a Hansal Mehta fan since Bose and Omerta His direction is mindblowing Performance by Pratik Gandhi Shreya Dhanwanthary and others are good. In short a definite watch\"\n"
      ],
      "execution_count": 14,
      "outputs": []
    },
    {
      "cell_type": "code",
      "metadata": {
        "id": "CH11T5jMY_Jf"
      },
      "source": [
        "#converting the string into a list of strings \r\n",
        "arr=string.split()"
      ],
      "execution_count": 15,
      "outputs": []
    },
    {
      "cell_type": "code",
      "metadata": {
        "id": "qHvnfOFMZGlk"
      },
      "source": [
        "#since this review is in text format\n",
        "#we need to convert it in integer encoded format before giving it as an input to the model\n",
        "#review encoder function encodes the review\n",
        "def review_encoder(text):\n",
        "  arr=[word_index.get(word,0) for word in text]\n",
        "  return arr\n",
        "\n",
        "scam_review=review_encoder(arr)\n",
        "for i in range(len(scam_review)):\n",
        "  if(scam_review[i]>10000):\n",
        "    scam_review[i]=3"
      ],
      "execution_count": 18,
      "outputs": []
    },
    {
      "cell_type": "code",
      "metadata": {
        "id": "bGnBK4MYdKgv"
      },
      "source": [
        "#converting the list to a numpy array\r\n",
        "scam_review=np.array([scam_review])"
      ],
      "execution_count": 21,
      "outputs": []
    },
    {
      "cell_type": "code",
      "metadata": {
        "id": "FfTbCS-caNna"
      },
      "source": [
        "#padding the review\r\n",
        "scam_review=keras.preprocessing.sequence.pad_sequences(scam_review,value=word_index[\"<PAD>\"],padding='post',maxlen=500)"
      ],
      "execution_count": 22,
      "outputs": []
    },
    {
      "cell_type": "code",
      "metadata": {
        "id": "jEPXxwJuaY0l",
        "colab": {
          "base_uri": "https://localhost:8080/"
        },
        "outputId": "517bb2f8-4fa0-478f-d8fa-f4a061454ec8"
      },
      "source": [
        "#checking the prediction of our model on the random review\r\n",
        "# model.predict_classes(scam_review)\r\n",
        "(model.predict(scam_review) > 0.5).astype(\"int32\")"
      ],
      "execution_count": 27,
      "outputs": [
        {
          "output_type": "execute_result",
          "data": {
            "text/plain": [
              "array([[1]], dtype=int32)"
            ]
          },
          "metadata": {
            "tags": []
          },
          "execution_count": 27
        }
      ]
    }
  ]
}