{
  "nbformat": 4,
  "nbformat_minor": 0,
  "metadata": {
    "colab": {
      "name": "IMDB_sentiment_analysis",
      "provenance": [],
      "collapsed_sections": [],
      "toc_visible": true,
      "include_colab_link": true
    },
    "kernelspec": {
      "display_name": "Python 3",
      "name": "python3"
    }
  },
  "cells": [
    {
      "cell_type": "markdown",
      "metadata": {
        "id": "view-in-github",
        "colab_type": "text"
      },
      "source": [
        "<a href=\"https://colab.research.google.com/github/safal25/ml_basic_codes/blob/main/IMDB_sentiment_analysis.ipynb\" target=\"_parent\"><img src=\"https://colab.research.google.com/assets/colab-badge.svg\" alt=\"Open In Colab\"/></a>"
      ]
    },
    {
      "cell_type": "markdown",
      "metadata": {
        "id": "-hLdF1oit06A"
      },
      "source": [
        "# Sentiment analysis of IMDB reviews\r\n",
        "We will start by importing the necessary libraries"
      ]
    },
    {
      "cell_type": "code",
      "metadata": {
        "id": "DzJqzHv-LceW"
      },
      "source": [
        "\r\n",
        "import tensorflow as tf"
      ],
      "execution_count": 6,
      "outputs": []
    },
    {
      "cell_type": "code",
      "metadata": {
        "id": "54C8Oca0LlVR"
      },
      "source": [
        "import tensorflow.keras as keras\n",
        "import numpy as np\n",
        "import pandas as pd\n",
        "import matplotlib.pyplot as plt\n"
      ],
      "execution_count": 7,
      "outputs": []
    },
    {
      "cell_type": "markdown",
      "metadata": {
        "id": "tO4uMWoJuzQt"
      },
      "source": [
        "Now, we need to download the dataset and then we will split the dataset into train and test data.\r\n",
        "\r\n",
        "Our dataset contains imdb reviews as our features and their corresponding label values which are 1 and 0, 1 means a positive review and 0 means a negative review.\r\n",
        "\r\n",
        "\r\n",
        "\r\n",
        "\r\n",
        "\r\n",
        "\r\n",
        "\r\n"
      ]
    },
    {
      "cell_type": "code",
      "metadata": {
        "id": "zzeYr85gL5F9"
      },
      "source": [
        "imdb = keras.datasets.imdb"
      ],
      "execution_count": 8,
      "outputs": []
    },
    {
      "cell_type": "code",
      "metadata": {
        "id": "3eREqYXkL_Qd",
        "colab": {
          "base_uri": "https://localhost:8080/"
        },
        "outputId": "7a6ec4d1-81e7-42e4-960b-6f9eaca203ac"
      },
      "source": [
        "#downloading the dataset\n",
        "#splitting the data into train and test data\n",
        "vocab_size=10000\n",
        "(train_data,train_labels),(test_data,test_labels)=imdb.load_data(num_words=vocab_size)"
      ],
      "execution_count": 9,
      "outputs": [
        {
          "output_type": "stream",
          "text": [
            "<string>:6: VisibleDeprecationWarning: Creating an ndarray from ragged nested sequences (which is a list-or-tuple of lists-or-tuples-or ndarrays with different lengths or shapes) is deprecated. If you meant to do this, you must specify 'dtype=object' when creating the ndarray\n",
            "/usr/local/lib/python3.6/dist-packages/tensorflow/python/keras/datasets/imdb.py:159: VisibleDeprecationWarning: Creating an ndarray from ragged nested sequences (which is a list-or-tuple of lists-or-tuples-or ndarrays with different lengths or shapes) is deprecated. If you meant to do this, you must specify 'dtype=object' when creating the ndarray\n",
            "  x_train, y_train = np.array(xs[:idx]), np.array(labels[:idx])\n",
            "/usr/local/lib/python3.6/dist-packages/tensorflow/python/keras/datasets/imdb.py:160: VisibleDeprecationWarning: Creating an ndarray from ragged nested sequences (which is a list-or-tuple of lists-or-tuples-or ndarrays with different lengths or shapes) is deprecated. If you meant to do this, you must specify 'dtype=object' when creating the ndarray\n",
            "  x_test, y_test = np.array(xs[idx:]), np.array(labels[idx:])\n"
          ],
          "name": "stderr"
        }
      ]
    },
    {
      "cell_type": "markdown",
      "metadata": {
        "id": "eNmTdwFsxbI_"
      },
      "source": [
        "The dataset we have downloaded is already integer encoded so we need to download the mapping of words to integers for this dataset and create a python dictionary for the same."
      ]
    },
    {
      "cell_type": "code",
      "metadata": {
        "id": "_jTuKOiQMdwS",
        "colab": {
          "base_uri": "https://localhost:8080/"
        },
        "outputId": "5d457c90-5e36-4c68-ac1a-8f3aaf751b38"
      },
      "source": [
        "\n",
        "word_index=imdb.get_word_index()\n",
        "\n",
        "word_index={k:(v+3) for k,v in word_index.items()}"
      ],
      "execution_count": 10,
      "outputs": [
        {
          "output_type": "stream",
          "text": [
            "Downloading data from https://storage.googleapis.com/tensorflow/tf-keras-datasets/imdb_word_index.json\n",
            "1646592/1641221 [==============================] - 0s 0us/step\n"
          ],
          "name": "stdout"
        }
      ]
    },
    {
      "cell_type": "code",
      "metadata": {
        "id": "zzwuStygMyep"
      },
      "source": [
        "word_index[\"<PAD>\"]=0\n",
        "word_index[\"<START\"]=1\n",
        "word_index[\"<UNK>\"]=2\n",
        "word_index[\"<UNUSED>\"]=3"
      ],
      "execution_count": 11,
      "outputs": []
    },
    {
      "cell_type": "code",
      "metadata": {
        "id": "J0lvRlsyNb5i"
      },
      "source": [
        "#checking the mapping\n",
        "s=[\"the\",\"movie\",\"was\",\"beautiful\"]\n",
        "arr=[word_index[k] for k in s]"
      ],
      "execution_count": 12,
      "outputs": []
    },
    {
      "cell_type": "code",
      "metadata": {
        "id": "XSzoMT5gN21c",
        "colab": {
          "base_uri": "https://localhost:8080/"
        },
        "outputId": "94277da4-4fc1-462c-95ba-a1bd4aeeaa01"
      },
      "source": [
        "arr"
      ],
      "execution_count": 13,
      "outputs": [
        {
          "output_type": "execute_result",
          "data": {
            "text/plain": [
              "[4, 20, 16, 307]"
            ]
          },
          "metadata": {
            "tags": []
          },
          "execution_count": 13
        }
      ]
    },
    {
      "cell_type": "markdown",
      "metadata": {
        "id": "KB_rPVl10Eqw"
      },
      "source": [
        "We would also create another python dictionary which contains the reverse mapping from integers to words we will use this dictionary whenever we want to convert the integer encoded data into text data."
      ]
    },
    {
      "cell_type": "code",
      "metadata": {
        "id": "RSV6uJhwN7y9"
      },
      "source": [
        "reverse_word_index=dict([(value,key) for key,value in word_index.items()])"
      ],
      "execution_count": 14,
      "outputs": []
    },
    {
      "cell_type": "markdown",
      "metadata": {
        "id": "sYdccvg01BBg"
      },
      "source": [
        "The decode_review function just helps us to decode an integer encoded review back to the text format."
      ]
    },
    {
      "cell_type": "code",
      "metadata": {
        "id": "VdpME3ejOQw7"
      },
      "source": [
        "def decode_review(text):\n",
        "\n",
        "  return \" \".join([reverse_word_index.get(i,'?') for i in text])\n",
        "\n",
        "review=decode_review(train_data[0])"
      ],
      "execution_count": 15,
      "outputs": []
    },
    {
      "cell_type": "code",
      "metadata": {
        "id": "cv7_I_xQOuo4",
        "colab": {
          "base_uri": "https://localhost:8080/"
        },
        "outputId": "e04898ae-8f24-4587-ad8a-e75cbd966cc0"
      },
      "source": [
        "#printing the first review in training dataset\n",
        "for i in review:\n",
        "  print(i,end='')"
      ],
      "execution_count": 16,
      "outputs": [
        {
          "output_type": "stream",
          "text": [
            "<START this film was just brilliant casting location scenery story direction everyone's really suited the part they played and you could just imagine being there robert <UNK> is an amazing actor and now the same being director <UNK> father came from the same scottish island as myself so i loved the fact there was a real connection with this film the witty remarks throughout the film were great it was just brilliant so much that i bought the film as soon as it was released for <UNK> and would recommend it to everyone to watch and the fly fishing was amazing really cried at the end it was so sad and you know what they say if you cry at a film it must have been good and this definitely was also <UNK> to the two little boy's that played the <UNK> of norman and paul they were just brilliant children are often left out of the <UNK> list i think because the stars that play them all grown up are such a big profile for the whole film but these children are amazing and should be praised for what they have done don't you think the whole story was so lovely because it was true and was someone's life after all that was shared with us all"
          ],
          "name": "stdout"
        }
      ]
    },
    {
      "cell_type": "markdown",
      "metadata": {
        "id": "bPOP1mPd1mrh"
      },
      "source": [
        "Before giving the review as an input to the model we need to perform following preprocessing steps:\r\n",
        "\r\n",
        " \r\n",
        "\r\n",
        "\r\n",
        "*   The length of each review should be made equal for the model to be working correctly.\r\n",
        "\r\n",
        "*  We have chosen the length of each review to be 500. \r\n",
        "*     If the review is longer than 500 words we are going to cut the extra part of the review.\r\n",
        "\r\n",
        "\r\n",
        "*       If the review is contains less than 500 words we are going to pad the review with zeros to increase its length to 500.\r\n",
        "\r\n",
        "\r\n",
        "\r\n",
        "\r\n",
        "\r\n",
        "\r\n",
        "\r\n",
        "\r\n",
        "\r\n",
        "\r\n",
        "\r\n",
        "\r\n",
        "\r\n",
        "\r\n",
        "\r\n",
        "\r\n",
        "\r\n",
        "\r\n",
        "\r\n",
        "\r\n",
        "\r\n"
      ]
    },
    {
      "cell_type": "code",
      "metadata": {
        "id": "CHEVR3TbPE_1"
      },
      "source": [
        "train_data=keras.preprocessing.sequence.pad_sequences(train_data,value=word_index[\"<PAD>\"],padding='post',maxlen=500)\n",
        "test_data=keras.preprocessing.sequence.pad_sequences(test_data,value=word_index[\"<PAD>\"],padding='post',maxlen=500)"
      ],
      "execution_count": 17,
      "outputs": []
    },
    {
      "cell_type": "markdown",
      "metadata": {
        "id": "EjL1Q8kG2YXV"
      },
      "source": [
        "#Building the model\r\n",
        "Our model is a neural network and it consits of the following layers : \r\n",
        "\r\n",
        "1.   one word embedding layer which creates word embeddings of length 16 from integer encoded review.\r\n",
        "2.  second layer is global average pooling layer.\r\n",
        "\r\n",
        "1.   then a dense layer which has 16 hidden units and uses relu as activation function\r\n",
        "2.  the final layer is the output layer which uses sigmoid as activation function \r\n",
        "\r\n",
        "\r\n"
      ]
    },
    {
      "cell_type": "code",
      "metadata": {
        "id": "D1WDSfAIPs31"
      },
      "source": [
        "model=keras.Sequential([keras.layers.Embedding(vocab_size,16,input_length=500),\n",
        "                        keras.layers.GlobalAveragePooling1D(),\n",
        "                        keras.layers.Dense(16,activation='relu'),\n",
        "                        keras.layers.Dense(1,activation='sigmoid')])"
      ],
      "execution_count": 18,
      "outputs": []
    },
    {
      "cell_type": "markdown",
      "metadata": {
        "id": "9pK_1v8v3hBZ"
      },
      "source": [
        "#compiling the model\r\n",
        "\r\n",
        "\r\n",
        "1.   Adam is used as optimization function for our model.\r\n",
        "2.   Binary cross entropy loss function is used as loss function for the model.\r\n",
        "\r\n",
        "1.   Accuracy is used as the metric for evaluating the model.\r\n",
        "\r\n",
        "\r\n",
        "\r\n"
      ]
    },
    {
      "cell_type": "code",
      "metadata": {
        "id": "JPsQuds5QYud"
      },
      "source": [
        "model.compile(optimizer='adam',loss='binary_crossentropy',metrics=['accuracy'])"
      ],
      "execution_count": 19,
      "outputs": []
    },
    {
      "cell_type": "markdown",
      "metadata": {
        "id": "7wJsxdk24H_g"
      },
      "source": [
        "In the next step we are going to train the model on our downloaded IMDB dataset."
      ]
    },
    {
      "cell_type": "code",
      "metadata": {
        "id": "YxUCLcRJQmBB",
        "colab": {
          "base_uri": "https://localhost:8080/"
        },
        "outputId": "3dfa09d6-4df5-43cd-bc0e-e4525aabbb4f"
      },
      "source": [
        "#training the model\r\n",
        "history=model.fit(train_data,train_labels,epochs=30,batch_size=512,validation_data=(test_data,test_labels))"
      ],
      "execution_count": 20,
      "outputs": [
        {
          "output_type": "stream",
          "text": [
            "Epoch 1/30\n",
            "49/49 [==============================] - 2s 35ms/step - loss: 0.6929 - accuracy: 0.5274 - val_loss: 0.6914 - val_accuracy: 0.5598\n",
            "Epoch 2/30\n",
            "49/49 [==============================] - 1s 28ms/step - loss: 0.6896 - accuracy: 0.5904 - val_loss: 0.6818 - val_accuracy: 0.7063\n",
            "Epoch 3/30\n",
            "49/49 [==============================] - 1s 29ms/step - loss: 0.6748 - accuracy: 0.7113 - val_loss: 0.6533 - val_accuracy: 0.7532\n",
            "Epoch 4/30\n",
            "49/49 [==============================] - 1s 29ms/step - loss: 0.6380 - accuracy: 0.7650 - val_loss: 0.6064 - val_accuracy: 0.7626\n",
            "Epoch 5/30\n",
            "49/49 [==============================] - 1s 28ms/step - loss: 0.5827 - accuracy: 0.7962 - val_loss: 0.5487 - val_accuracy: 0.7950\n",
            "Epoch 6/30\n",
            "49/49 [==============================] - 1s 29ms/step - loss: 0.5186 - accuracy: 0.8228 - val_loss: 0.4938 - val_accuracy: 0.8252\n",
            "Epoch 7/30\n",
            "49/49 [==============================] - 1s 29ms/step - loss: 0.4560 - accuracy: 0.8512 - val_loss: 0.4480 - val_accuracy: 0.8364\n",
            "Epoch 8/30\n",
            "49/49 [==============================] - 1s 29ms/step - loss: 0.4103 - accuracy: 0.8640 - val_loss: 0.4087 - val_accuracy: 0.8518\n",
            "Epoch 9/30\n",
            "49/49 [==============================] - 1s 28ms/step - loss: 0.3681 - accuracy: 0.8787 - val_loss: 0.3806 - val_accuracy: 0.8591\n",
            "Epoch 10/30\n",
            "49/49 [==============================] - 1s 28ms/step - loss: 0.3372 - accuracy: 0.8834 - val_loss: 0.3597 - val_accuracy: 0.8644\n",
            "Epoch 11/30\n",
            "49/49 [==============================] - 1s 29ms/step - loss: 0.3142 - accuracy: 0.8895 - val_loss: 0.3434 - val_accuracy: 0.8691\n",
            "Epoch 12/30\n",
            "49/49 [==============================] - 1s 29ms/step - loss: 0.2943 - accuracy: 0.8991 - val_loss: 0.3305 - val_accuracy: 0.8724\n",
            "Epoch 13/30\n",
            "49/49 [==============================] - 1s 29ms/step - loss: 0.2756 - accuracy: 0.9029 - val_loss: 0.3202 - val_accuracy: 0.8752\n",
            "Epoch 14/30\n",
            "49/49 [==============================] - 1s 29ms/step - loss: 0.2625 - accuracy: 0.9038 - val_loss: 0.3140 - val_accuracy: 0.8764\n",
            "Epoch 15/30\n",
            "49/49 [==============================] - 1s 30ms/step - loss: 0.2493 - accuracy: 0.9118 - val_loss: 0.3057 - val_accuracy: 0.8798\n",
            "Epoch 16/30\n",
            "49/49 [==============================] - 1s 30ms/step - loss: 0.2363 - accuracy: 0.9165 - val_loss: 0.3018 - val_accuracy: 0.8800\n",
            "Epoch 17/30\n",
            "49/49 [==============================] - 1s 30ms/step - loss: 0.2242 - accuracy: 0.9214 - val_loss: 0.2965 - val_accuracy: 0.8830\n",
            "Epoch 18/30\n",
            "49/49 [==============================] - 1s 30ms/step - loss: 0.2191 - accuracy: 0.9228 - val_loss: 0.2934 - val_accuracy: 0.8832\n",
            "Epoch 19/30\n",
            "49/49 [==============================] - 1s 30ms/step - loss: 0.2105 - accuracy: 0.9262 - val_loss: 0.2909 - val_accuracy: 0.8842\n",
            "Epoch 20/30\n",
            "49/49 [==============================] - 1s 31ms/step - loss: 0.2069 - accuracy: 0.9277 - val_loss: 0.2896 - val_accuracy: 0.8840\n",
            "Epoch 21/30\n",
            "49/49 [==============================] - 2s 31ms/step - loss: 0.1950 - accuracy: 0.9334 - val_loss: 0.2873 - val_accuracy: 0.8850\n",
            "Epoch 22/30\n",
            "49/49 [==============================] - 1s 31ms/step - loss: 0.1891 - accuracy: 0.9344 - val_loss: 0.2859 - val_accuracy: 0.8859\n",
            "Epoch 23/30\n",
            "49/49 [==============================] - 2s 31ms/step - loss: 0.1804 - accuracy: 0.9390 - val_loss: 0.2893 - val_accuracy: 0.8844\n",
            "Epoch 24/30\n",
            "49/49 [==============================] - 1s 30ms/step - loss: 0.1736 - accuracy: 0.9418 - val_loss: 0.2869 - val_accuracy: 0.8861\n",
            "Epoch 25/30\n",
            "49/49 [==============================] - 2s 32ms/step - loss: 0.1742 - accuracy: 0.9396 - val_loss: 0.2884 - val_accuracy: 0.8854\n",
            "Epoch 26/30\n",
            "49/49 [==============================] - 2s 32ms/step - loss: 0.1649 - accuracy: 0.9452 - val_loss: 0.2865 - val_accuracy: 0.8860\n",
            "Epoch 27/30\n",
            "49/49 [==============================] - 1s 30ms/step - loss: 0.1575 - accuracy: 0.9470 - val_loss: 0.2876 - val_accuracy: 0.8856\n",
            "Epoch 28/30\n",
            "49/49 [==============================] - 1s 30ms/step - loss: 0.1557 - accuracy: 0.9490 - val_loss: 0.2886 - val_accuracy: 0.8857\n",
            "Epoch 29/30\n",
            "49/49 [==============================] - 2s 31ms/step - loss: 0.1502 - accuracy: 0.9514 - val_loss: 0.2894 - val_accuracy: 0.8860\n",
            "Epoch 30/30\n",
            "49/49 [==============================] - 2s 32ms/step - loss: 0.1447 - accuracy: 0.9547 - val_loss: 0.2915 - val_accuracy: 0.8858\n"
          ],
          "name": "stdout"
        }
      ]
    },
    {
      "cell_type": "markdown",
      "metadata": {
        "id": "3FQWLj-i4dEK"
      },
      "source": [
        "Now we will be evaluating the loss and accuracy of our model on testing data."
      ]
    },
    {
      "cell_type": "code",
      "metadata": {
        "id": "aHLzEJI-RCWF",
        "colab": {
          "base_uri": "https://localhost:8080/"
        },
        "outputId": "688b6d9f-3153-4a13-de97-017a21261e73"
      },
      "source": [
        "loss,accuracy=model.evaluate(test_data,test_labels)"
      ],
      "execution_count": 21,
      "outputs": [
        {
          "output_type": "stream",
          "text": [
            "782/782 [==============================] - 1s 2ms/step - loss: 0.2915 - accuracy: 0.8858\n"
          ],
          "name": "stdout"
        }
      ]
    },
    {
      "cell_type": "markdown",
      "metadata": {
        "id": "NhtQ2vt44tvd"
      },
      "source": [
        "As we can see our model is giving an accuracy of 88.58% on the testing data."
      ]
    },
    {
      "cell_type": "markdown",
      "metadata": {
        "id": "76XGeUaQ4_5c"
      },
      "source": [
        "Since our model is trained, now we will test our model on a random review that we are going to copy from imdb website."
      ]
    },
    {
      "cell_type": "code",
      "metadata": {
        "id": "oPIuAtvmWVg1"
      },
      "source": [
        "#copying a random review from imdb to test our model\n",
        "string=\"Scam 1992 The Harshad Mehta story is a brilliant web series directed by Hansal Mehta I have been a Hansal Mehta fan since Bose and Omerta His direction is mindblowing Performance by Pratik Gandhi Shreya Dhanwanthary and others are good. In short a definite watch\"\n"
      ],
      "execution_count": 22,
      "outputs": []
    },
    {
      "cell_type": "code",
      "metadata": {
        "id": "CH11T5jMY_Jf"
      },
      "source": [
        "#converting the string into a list of strings \r\n",
        "arr=string.split()"
      ],
      "execution_count": 23,
      "outputs": []
    },
    {
      "cell_type": "markdown",
      "metadata": {
        "id": "8s8qQiSV5dtf"
      },
      "source": [
        "Since this review is in text format\r\n",
        "we need to convert it in integer encoded format before giving it as an input to the model so we have created the\r\n",
        "review encoder function to do the same."
      ]
    },
    {
      "cell_type": "code",
      "metadata": {
        "id": "qHvnfOFMZGlk"
      },
      "source": [
        "def review_encoder(text):\n",
        "  arr=[word_index.get(word,0) for word in text]\n",
        "  return arr\n",
        "\n",
        "scam_review=review_encoder(arr)\n",
        "for i in range(len(scam_review)):\n",
        "  if(scam_review[i]>10000):\n",
        "    scam_review[i]=3"
      ],
      "execution_count": 24,
      "outputs": []
    },
    {
      "cell_type": "code",
      "metadata": {
        "id": "bGnBK4MYdKgv"
      },
      "source": [
        "#converting the list to a numpy array\r\n",
        "scam_review=np.array([scam_review])"
      ],
      "execution_count": 25,
      "outputs": []
    },
    {
      "cell_type": "code",
      "metadata": {
        "id": "FfTbCS-caNna"
      },
      "source": [
        "#padding the review\r\n",
        "scam_review=keras.preprocessing.sequence.pad_sequences(scam_review,value=word_index[\"<PAD>\"],padding='post',maxlen=500)"
      ],
      "execution_count": 26,
      "outputs": []
    },
    {
      "cell_type": "markdown",
      "metadata": {
        "id": "z9EdNh2w8GTC"
      },
      "source": [
        "Checking the prediction of our model on the random review."
      ]
    },
    {
      "cell_type": "code",
      "metadata": {
        "id": "jEPXxwJuaY0l",
        "colab": {
          "base_uri": "https://localhost:8080/"
        },
        "outputId": "5487328e-7c06-4fca-deba-cc38c084d1c4"
      },
      "source": [
        "if (model.predict(scam_review) > 0.5).astype(\"int32\"):\r\n",
        "  print(\"positive review\")\r\n",
        "else:\r\n",
        "  print(\"negative review\")"
      ],
      "execution_count": 27,
      "outputs": [
        {
          "output_type": "stream",
          "text": [
            "positive review\n"
          ],
          "name": "stdout"
        }
      ]
    }
  ]
}