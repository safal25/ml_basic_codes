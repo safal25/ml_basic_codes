{
  "nbformat": 4,
  "nbformat_minor": 0,
  "metadata": {
    "colab": {
      "name": "IMDB_sentiment_analysis",
      "provenance": [],
      "collapsed_sections": [],
      "toc_visible": true,
      "include_colab_link": true
    },
    "kernelspec": {
      "display_name": "Python 3",
      "name": "python3"
    }
  },
  "cells": [
    {
      "cell_type": "markdown",
      "metadata": {
        "id": "view-in-github",
        "colab_type": "text"
      },
      "source": [
        "<a href=\"https://colab.research.google.com/github/safal25/cv/blob/master/IMDB_sentiment_analysis.ipynb\" target=\"_parent\"><img src=\"https://colab.research.google.com/assets/colab-badge.svg\" alt=\"Open In Colab\"/></a>"
      ]
    },
    {
      "cell_type": "code",
      "metadata": {
        "id": "DzJqzHv-LceW"
      },
      "source": [
        "import tensorflow as tf"
      ],
      "execution_count": null,
      "outputs": []
    },
    {
      "cell_type": "code",
      "metadata": {
        "id": "54C8Oca0LlVR"
      },
      "source": [
        "import tensorflow.keras as keras\n",
        "import numpy as np\n",
        "import pandas as pd\n",
        "import matplotlib.pyplot as plt\n"
      ],
      "execution_count": null,
      "outputs": []
    },
    {
      "cell_type": "code",
      "metadata": {
        "id": "zzeYr85gL5F9"
      },
      "source": [
        "imdb = keras.datasets.imdb"
      ],
      "execution_count": null,
      "outputs": []
    },
    {
      "cell_type": "code",
      "metadata": {
        "id": "3eREqYXkL_Qd",
        "outputId": "5b6da2f0-89c1-415c-cdc7-29cfecefa64c",
        "colab": {
          "base_uri": "https://localhost:8080/"
        }
      },
      "source": [
        "vocab_size=10000\n",
        "(train_data,train_labels),(test_data,test_labels)=imdb.load_data(num_words=vocab_size)"
      ],
      "execution_count": null,
      "outputs": [
        {
          "output_type": "stream",
          "text": [
            "Downloading data from https://storage.googleapis.com/tensorflow/tf-keras-datasets/imdb.npz\n",
            "17465344/17464789 [==============================] - 0s 0us/step\n"
          ],
          "name": "stdout"
        }
      ]
    },
    {
      "cell_type": "code",
      "metadata": {
        "id": "Afa1LEurMXMT",
        "outputId": "e07598bf-81de-4383-d4ed-367f010454b3",
        "colab": {
          "base_uri": "https://localhost:8080/"
        }
      },
      "source": [
        "train_data[0]"
      ],
      "execution_count": null,
      "outputs": [
        {
          "output_type": "execute_result",
          "data": {
            "text/plain": [
              "[1,\n",
              " 14,\n",
              " 22,\n",
              " 16,\n",
              " 43,\n",
              " 530,\n",
              " 973,\n",
              " 1622,\n",
              " 1385,\n",
              " 65,\n",
              " 458,\n",
              " 4468,\n",
              " 66,\n",
              " 3941,\n",
              " 4,\n",
              " 173,\n",
              " 36,\n",
              " 256,\n",
              " 5,\n",
              " 25,\n",
              " 100,\n",
              " 43,\n",
              " 838,\n",
              " 112,\n",
              " 50,\n",
              " 670,\n",
              " 2,\n",
              " 9,\n",
              " 35,\n",
              " 480,\n",
              " 284,\n",
              " 5,\n",
              " 150,\n",
              " 4,\n",
              " 172,\n",
              " 112,\n",
              " 167,\n",
              " 2,\n",
              " 336,\n",
              " 385,\n",
              " 39,\n",
              " 4,\n",
              " 172,\n",
              " 4536,\n",
              " 1111,\n",
              " 17,\n",
              " 546,\n",
              " 38,\n",
              " 13,\n",
              " 447,\n",
              " 4,\n",
              " 192,\n",
              " 50,\n",
              " 16,\n",
              " 6,\n",
              " 147,\n",
              " 2025,\n",
              " 19,\n",
              " 14,\n",
              " 22,\n",
              " 4,\n",
              " 1920,\n",
              " 4613,\n",
              " 469,\n",
              " 4,\n",
              " 22,\n",
              " 71,\n",
              " 87,\n",
              " 12,\n",
              " 16,\n",
              " 43,\n",
              " 530,\n",
              " 38,\n",
              " 76,\n",
              " 15,\n",
              " 13,\n",
              " 1247,\n",
              " 4,\n",
              " 22,\n",
              " 17,\n",
              " 515,\n",
              " 17,\n",
              " 12,\n",
              " 16,\n",
              " 626,\n",
              " 18,\n",
              " 2,\n",
              " 5,\n",
              " 62,\n",
              " 386,\n",
              " 12,\n",
              " 8,\n",
              " 316,\n",
              " 8,\n",
              " 106,\n",
              " 5,\n",
              " 4,\n",
              " 2223,\n",
              " 5244,\n",
              " 16,\n",
              " 480,\n",
              " 66,\n",
              " 3785,\n",
              " 33,\n",
              " 4,\n",
              " 130,\n",
              " 12,\n",
              " 16,\n",
              " 38,\n",
              " 619,\n",
              " 5,\n",
              " 25,\n",
              " 124,\n",
              " 51,\n",
              " 36,\n",
              " 135,\n",
              " 48,\n",
              " 25,\n",
              " 1415,\n",
              " 33,\n",
              " 6,\n",
              " 22,\n",
              " 12,\n",
              " 215,\n",
              " 28,\n",
              " 77,\n",
              " 52,\n",
              " 5,\n",
              " 14,\n",
              " 407,\n",
              " 16,\n",
              " 82,\n",
              " 2,\n",
              " 8,\n",
              " 4,\n",
              " 107,\n",
              " 117,\n",
              " 5952,\n",
              " 15,\n",
              " 256,\n",
              " 4,\n",
              " 2,\n",
              " 7,\n",
              " 3766,\n",
              " 5,\n",
              " 723,\n",
              " 36,\n",
              " 71,\n",
              " 43,\n",
              " 530,\n",
              " 476,\n",
              " 26,\n",
              " 400,\n",
              " 317,\n",
              " 46,\n",
              " 7,\n",
              " 4,\n",
              " 2,\n",
              " 1029,\n",
              " 13,\n",
              " 104,\n",
              " 88,\n",
              " 4,\n",
              " 381,\n",
              " 15,\n",
              " 297,\n",
              " 98,\n",
              " 32,\n",
              " 2071,\n",
              " 56,\n",
              " 26,\n",
              " 141,\n",
              " 6,\n",
              " 194,\n",
              " 7486,\n",
              " 18,\n",
              " 4,\n",
              " 226,\n",
              " 22,\n",
              " 21,\n",
              " 134,\n",
              " 476,\n",
              " 26,\n",
              " 480,\n",
              " 5,\n",
              " 144,\n",
              " 30,\n",
              " 5535,\n",
              " 18,\n",
              " 51,\n",
              " 36,\n",
              " 28,\n",
              " 224,\n",
              " 92,\n",
              " 25,\n",
              " 104,\n",
              " 4,\n",
              " 226,\n",
              " 65,\n",
              " 16,\n",
              " 38,\n",
              " 1334,\n",
              " 88,\n",
              " 12,\n",
              " 16,\n",
              " 283,\n",
              " 5,\n",
              " 16,\n",
              " 4472,\n",
              " 113,\n",
              " 103,\n",
              " 32,\n",
              " 15,\n",
              " 16,\n",
              " 5345,\n",
              " 19,\n",
              " 178,\n",
              " 32]"
            ]
          },
          "metadata": {
            "tags": []
          },
          "execution_count": 5
        }
      ]
    },
    {
      "cell_type": "code",
      "metadata": {
        "id": "_jTuKOiQMdwS",
        "outputId": "cca3b538-ea55-400b-b188-a62b96cc7a04",
        "colab": {
          "base_uri": "https://localhost:8080/"
        }
      },
      "source": [
        "word_index=imdb.get_word_index()\n",
        "\n",
        "word_index={k:(v+3) for k,v in word_index.items()}"
      ],
      "execution_count": null,
      "outputs": [
        {
          "output_type": "stream",
          "text": [
            "Downloading data from https://storage.googleapis.com/tensorflow/tf-keras-datasets/imdb_word_index.json\n",
            "1646592/1641221 [==============================] - 0s 0us/step\n"
          ],
          "name": "stdout"
        }
      ]
    },
    {
      "cell_type": "code",
      "metadata": {
        "id": "zzwuStygMyep"
      },
      "source": [
        "word_index[\"<PAD>\"]=0\n",
        "word_index[\"<START\"]=1\n",
        "word_index[\"<UNK>\"]=2\n",
        "word_index[\"<UNUSED>\"]=3"
      ],
      "execution_count": null,
      "outputs": []
    },
    {
      "cell_type": "code",
      "metadata": {
        "id": "J0lvRlsyNb5i"
      },
      "source": [
        "s=[\"the\",\"movie\",\"was\",\"beautiful\"]\n",
        "arr=[word_index[k] for k in s]"
      ],
      "execution_count": null,
      "outputs": []
    },
    {
      "cell_type": "code",
      "metadata": {
        "id": "XSzoMT5gN21c",
        "outputId": "9da8d755-1056-4cc6-9287-7b66be08ab17",
        "colab": {
          "base_uri": "https://localhost:8080/"
        }
      },
      "source": [
        "arr"
      ],
      "execution_count": null,
      "outputs": [
        {
          "output_type": "execute_result",
          "data": {
            "text/plain": [
              "[4, 20, 16, 307]"
            ]
          },
          "metadata": {
            "tags": []
          },
          "execution_count": 10
        }
      ]
    },
    {
      "cell_type": "code",
      "metadata": {
        "id": "RSV6uJhwN7y9"
      },
      "source": [
        "reverse_word_index=dict([(value,key) for key,value in word_index.items()])"
      ],
      "execution_count": null,
      "outputs": []
    },
    {
      "cell_type": "code",
      "metadata": {
        "id": "VdpME3ejOQw7"
      },
      "source": [
        "def decode_review(text):\n",
        "\n",
        "  return \" \".join([reverse_word_index.get(i,'?') for i in text])\n",
        "\n",
        "review=decode_review(train_data[0])"
      ],
      "execution_count": null,
      "outputs": []
    },
    {
      "cell_type": "code",
      "metadata": {
        "id": "cv7_I_xQOuo4",
        "outputId": "7a2ac9b5-b0c3-400b-a1c8-606100432fd2",
        "colab": {
          "base_uri": "https://localhost:8080/"
        }
      },
      "source": [
        "for i in review:\n",
        "  print(i,end='')"
      ],
      "execution_count": null,
      "outputs": [
        {
          "output_type": "stream",
          "text": [
            "<START this film was just brilliant casting location scenery story direction everyone's really suited the part they played and you could just imagine being there robert <UNK> is an amazing actor and now the same being director <UNK> father came from the same scottish island as myself so i loved the fact there was a real connection with this film the witty remarks throughout the film were great it was just brilliant so much that i bought the film as soon as it was released for <UNK> and would recommend it to everyone to watch and the fly fishing was amazing really cried at the end it was so sad and you know what they say if you cry at a film it must have been good and this definitely was also <UNK> to the two little boy's that played the <UNK> of norman and paul they were just brilliant children are often left out of the <UNK> list i think because the stars that play them all grown up are such a big profile for the whole film but these children are amazing and should be praised for what they have done don't you think the whole story was so lovely because it was true and was someone's life after all that was shared with us all"
          ],
          "name": "stdout"
        }
      ]
    },
    {
      "cell_type": "code",
      "metadata": {
        "id": "CHEVR3TbPE_1"
      },
      "source": [
        "train_data=keras.preprocessing.sequence.pad_sequences(train_data,value=word_index[\"<PAD>\"],padding='post',maxlen=500)\n",
        "test_data=keras.preprocessing.sequence.pad_sequences(test_data,value=word_index[\"<PAD>\"],padding='post',maxlen=500)"
      ],
      "execution_count": null,
      "outputs": []
    },
    {
      "cell_type": "code",
      "metadata": {
        "id": "LvUsY9cFPl9z"
      },
      "source": [
        "train_data[0]"
      ],
      "execution_count": null,
      "outputs": []
    },
    {
      "cell_type": "code",
      "metadata": {
        "id": "D1WDSfAIPs31"
      },
      "source": [
        "model=keras.Sequential([keras.layers.Embedding(vocab_size,16,input_length=500),\n",
        "                        keras.layers.GlobalAveragePooling1D(),\n",
        "                        keras.layers.Dense(16,activation='relu'),\n",
        "                        keras.layers.Dense(1,activation='sigmoid')])"
      ],
      "execution_count": null,
      "outputs": []
    },
    {
      "cell_type": "code",
      "metadata": {
        "id": "JPsQuds5QYud"
      },
      "source": [
        "model.compile(optimizer='adam',loss='binary_crossentropy',metrics=['accuracy'])"
      ],
      "execution_count": null,
      "outputs": []
    },
    {
      "cell_type": "code",
      "metadata": {
        "id": "YxUCLcRJQmBB",
        "outputId": "f067be95-c67b-4d04-b540-dbd2288369c4",
        "colab": {
          "base_uri": "https://localhost:8080/"
        }
      },
      "source": [
        "history=model.fit(train_data,train_labels,epochs=30,batch_size=512,validation_data=(test_data,test_labels))"
      ],
      "execution_count": null,
      "outputs": [
        {
          "output_type": "stream",
          "text": [
            "Epoch 1/30\n",
            "49/49 [==============================] - 2s 32ms/step - loss: 0.6918 - accuracy: 0.5784 - val_loss: 0.6898 - val_accuracy: 0.5829\n",
            "Epoch 2/30\n",
            "49/49 [==============================] - 1s 29ms/step - loss: 0.6841 - accuracy: 0.6851 - val_loss: 0.6772 - val_accuracy: 0.7416\n",
            "Epoch 3/30\n",
            "49/49 [==============================] - 1s 29ms/step - loss: 0.6612 - accuracy: 0.7364 - val_loss: 0.6454 - val_accuracy: 0.7615\n",
            "Epoch 4/30\n",
            "49/49 [==============================] - 1s 29ms/step - loss: 0.6155 - accuracy: 0.7813 - val_loss: 0.5947 - val_accuracy: 0.7830\n",
            "Epoch 5/30\n",
            "49/49 [==============================] - 1s 29ms/step - loss: 0.5542 - accuracy: 0.8106 - val_loss: 0.5374 - val_accuracy: 0.8016\n",
            "Epoch 6/30\n",
            "49/49 [==============================] - 1s 29ms/step - loss: 0.4905 - accuracy: 0.8370 - val_loss: 0.4806 - val_accuracy: 0.8303\n",
            "Epoch 7/30\n",
            "49/49 [==============================] - 1s 29ms/step - loss: 0.4334 - accuracy: 0.8568 - val_loss: 0.4369 - val_accuracy: 0.8367\n",
            "Epoch 8/30\n",
            "49/49 [==============================] - 1s 30ms/step - loss: 0.3869 - accuracy: 0.8706 - val_loss: 0.3990 - val_accuracy: 0.8558\n",
            "Epoch 9/30\n",
            "49/49 [==============================] - 1s 29ms/step - loss: 0.3505 - accuracy: 0.8823 - val_loss: 0.3725 - val_accuracy: 0.8621\n",
            "Epoch 10/30\n",
            "49/49 [==============================] - 1s 29ms/step - loss: 0.3224 - accuracy: 0.8892 - val_loss: 0.3535 - val_accuracy: 0.8651\n",
            "Epoch 11/30\n",
            "49/49 [==============================] - 1s 30ms/step - loss: 0.2999 - accuracy: 0.8954 - val_loss: 0.3370 - val_accuracy: 0.8708\n",
            "Epoch 12/30\n",
            "49/49 [==============================] - 1s 29ms/step - loss: 0.2808 - accuracy: 0.9029 - val_loss: 0.3253 - val_accuracy: 0.8746\n",
            "Epoch 13/30\n",
            "49/49 [==============================] - 1s 29ms/step - loss: 0.2654 - accuracy: 0.9072 - val_loss: 0.3161 - val_accuracy: 0.8767\n",
            "Epoch 14/30\n",
            "49/49 [==============================] - 1s 30ms/step - loss: 0.2520 - accuracy: 0.9120 - val_loss: 0.3099 - val_accuracy: 0.8776\n",
            "Epoch 15/30\n",
            "49/49 [==============================] - 1s 30ms/step - loss: 0.2392 - accuracy: 0.9167 - val_loss: 0.3029 - val_accuracy: 0.8808\n",
            "Epoch 16/30\n",
            "49/49 [==============================] - 1s 29ms/step - loss: 0.2288 - accuracy: 0.9205 - val_loss: 0.2974 - val_accuracy: 0.8830\n",
            "Epoch 17/30\n",
            "49/49 [==============================] - 1s 29ms/step - loss: 0.2196 - accuracy: 0.9236 - val_loss: 0.2955 - val_accuracy: 0.8816\n",
            "Epoch 18/30\n",
            "49/49 [==============================] - 1s 29ms/step - loss: 0.2103 - accuracy: 0.9277 - val_loss: 0.2906 - val_accuracy: 0.8846\n",
            "Epoch 19/30\n",
            "49/49 [==============================] - 1s 29ms/step - loss: 0.2021 - accuracy: 0.9304 - val_loss: 0.2889 - val_accuracy: 0.8853\n",
            "Epoch 20/30\n",
            "49/49 [==============================] - 1s 29ms/step - loss: 0.1946 - accuracy: 0.9332 - val_loss: 0.2884 - val_accuracy: 0.8854\n",
            "Epoch 21/30\n",
            "49/49 [==============================] - 1s 29ms/step - loss: 0.1877 - accuracy: 0.9359 - val_loss: 0.2860 - val_accuracy: 0.8862\n",
            "Epoch 22/30\n",
            "49/49 [==============================] - 1s 29ms/step - loss: 0.1814 - accuracy: 0.9386 - val_loss: 0.2854 - val_accuracy: 0.8864\n",
            "Epoch 23/30\n",
            "49/49 [==============================] - 1s 30ms/step - loss: 0.1756 - accuracy: 0.9400 - val_loss: 0.2857 - val_accuracy: 0.8861\n",
            "Epoch 24/30\n",
            "49/49 [==============================] - 1s 29ms/step - loss: 0.1701 - accuracy: 0.9425 - val_loss: 0.2851 - val_accuracy: 0.8861\n",
            "Epoch 25/30\n",
            "49/49 [==============================] - 1s 30ms/step - loss: 0.1643 - accuracy: 0.9449 - val_loss: 0.2869 - val_accuracy: 0.8856\n",
            "Epoch 26/30\n",
            "49/49 [==============================] - 1s 29ms/step - loss: 0.1595 - accuracy: 0.9468 - val_loss: 0.2872 - val_accuracy: 0.8862\n",
            "Epoch 27/30\n",
            "49/49 [==============================] - 1s 29ms/step - loss: 0.1549 - accuracy: 0.9480 - val_loss: 0.2876 - val_accuracy: 0.8857\n",
            "Epoch 28/30\n",
            "49/49 [==============================] - 1s 30ms/step - loss: 0.1510 - accuracy: 0.9500 - val_loss: 0.2898 - val_accuracy: 0.8855\n",
            "Epoch 29/30\n",
            "49/49 [==============================] - 1s 30ms/step - loss: 0.1470 - accuracy: 0.9516 - val_loss: 0.2919 - val_accuracy: 0.8859\n",
            "Epoch 30/30\n",
            "49/49 [==============================] - 1s 29ms/step - loss: 0.1424 - accuracy: 0.9523 - val_loss: 0.2931 - val_accuracy: 0.8850\n"
          ],
          "name": "stdout"
        }
      ]
    },
    {
      "cell_type": "code",
      "metadata": {
        "id": "aHLzEJI-RCWF",
        "outputId": "57825744-8841-4863-94ee-91e39d59bc3e",
        "colab": {
          "base_uri": "https://localhost:8080/"
        }
      },
      "source": [
        "loss,accuracy=model.evaluate(test_data,test_labels)"
      ],
      "execution_count": null,
      "outputs": [
        {
          "output_type": "stream",
          "text": [
            "782/782 [==============================] - 1s 1ms/step - loss: 0.2931 - accuracy: 0.8850\n"
          ],
          "name": "stdout"
        }
      ]
    },
    {
      "cell_type": "code",
      "metadata": {
        "id": "FYHXDMbZSIJD",
        "outputId": "c4f033df-2e64-4ed6-c81a-efba5f09b59d",
        "colab": {
          "base_uri": "https://localhost:8080/"
        }
      },
      "source": [
        "print(accuracy*100,end=\"\")\n",
        "print(\"%\")"
      ],
      "execution_count": null,
      "outputs": [
        {
          "output_type": "stream",
          "text": [
            "88.50399851799011%\n"
          ],
          "name": "stdout"
        }
      ]
    },
    {
      "cell_type": "code",
      "metadata": {
        "id": "35qdQW3ZTHzt",
        "outputId": "f05ee2d4-6c4d-4f87-f720-d36563a7b4cb",
        "colab": {
          "base_uri": "https://localhost:8080/"
        }
      },
      "source": [
        "model.summary()"
      ],
      "execution_count": null,
      "outputs": [
        {
          "output_type": "stream",
          "text": [
            "Model: \"sequential_1\"\n",
            "_________________________________________________________________\n",
            "Layer (type)                 Output Shape              Param #   \n",
            "=================================================================\n",
            "embedding_2 (Embedding)      (None, 500, 16)           160000    \n",
            "_________________________________________________________________\n",
            "global_average_pooling1d_2 ( (None, 16)                0         \n",
            "_________________________________________________________________\n",
            "dense_3 (Dense)              (None, 16)                272       \n",
            "_________________________________________________________________\n",
            "dense_4 (Dense)              (None, 1)                 17        \n",
            "=================================================================\n",
            "Total params: 160,289\n",
            "Trainable params: 160,289\n",
            "Non-trainable params: 0\n",
            "_________________________________________________________________\n"
          ],
          "name": "stdout"
        }
      ]
    },
    {
      "cell_type": "code",
      "metadata": {
        "id": "oPIuAtvmWVg1"
      },
      "source": [
        "string=\"real talent and story comes in webseries we love it awesome storyline screenplay and best music kudos to the production team\"\n"
      ],
      "execution_count": null,
      "outputs": []
    },
    {
      "cell_type": "code",
      "metadata": {
        "id": "CH11T5jMY_Jf"
      },
      "source": [
        "arr=string.split()"
      ],
      "execution_count": null,
      "outputs": []
    },
    {
      "cell_type": "code",
      "metadata": {
        "id": "oppMNzjoZDdc",
        "outputId": "7887d6b0-5777-4919-f1d0-271c7dee8139",
        "colab": {
          "base_uri": "https://localhost:8080/"
        }
      },
      "source": [
        "arr"
      ],
      "execution_count": null,
      "outputs": [
        {
          "output_type": "execute_result",
          "data": {
            "text/plain": [
              "['real',\n",
              " 'talent',\n",
              " 'and',\n",
              " 'story',\n",
              " 'comes',\n",
              " 'in',\n",
              " 'webseries',\n",
              " 'we',\n",
              " 'love',\n",
              " 'it',\n",
              " 'awesome',\n",
              " 'storyline',\n",
              " 'screenplay',\n",
              " 'and',\n",
              " 'best',\n",
              " 'music',\n",
              " 'kudos',\n",
              " 'to',\n",
              " 'the',\n",
              " 'production',\n",
              " 'team']"
            ]
          },
          "metadata": {
            "tags": []
          },
          "execution_count": 65
        }
      ]
    },
    {
      "cell_type": "code",
      "metadata": {
        "id": "qHvnfOFMZGlk"
      },
      "source": [
        "def review_encoder(text):\n",
        "  arr=[word_index.get(word,0) for word in text]\n",
        "  return arr\n",
        "\n",
        "scam_review=review_encoder(arr)"
      ],
      "execution_count": null,
      "outputs": []
    },
    {
      "cell_type": "code",
      "metadata": {
        "id": "SlHSsPNYZtVT"
      },
      "source": [
        "scam_review=np.array([scam_review])"
      ],
      "execution_count": null,
      "outputs": []
    },
    {
      "cell_type": "code",
      "metadata": {
        "id": "MN0Ubi1NZ-Bt",
        "outputId": "5e8e30e5-d358-4948-8298-deb4afd4c5c4",
        "colab": {
          "base_uri": "https://localhost:8080/"
        }
      },
      "source": [
        "scam_review.shape"
      ],
      "execution_count": null,
      "outputs": [
        {
          "output_type": "execute_result",
          "data": {
            "text/plain": [
              "(1, 21)"
            ]
          },
          "metadata": {
            "tags": []
          },
          "execution_count": 69
        }
      ]
    },
    {
      "cell_type": "code",
      "metadata": {
        "id": "FfTbCS-caNna"
      },
      "source": [
        "scam_review=keras.preprocessing.sequence.pad_sequences(scam_review,value=word_index[\"<PAD>\"],padding='post',maxlen=500)"
      ],
      "execution_count": null,
      "outputs": []
    },
    {
      "cell_type": "code",
      "metadata": {
        "id": "NNT-T-V-aVsv",
        "outputId": "27a4270f-c38b-4bcb-8acc-2043fecb5166",
        "colab": {
          "base_uri": "https://localhost:8080/"
        }
      },
      "source": [
        "scam_review"
      ],
      "execution_count": null,
      "outputs": [
        {
          "output_type": "execute_result",
          "data": {
            "text/plain": [
              "array([[ 147,  676,    5,   65,  266,   11,    0,   75,  119,   12, 1190,\n",
              "         769,  881,    5,  118,  228, 3600,    8,    4,  365,  768,    0,\n",
              "           0,    0,    0,    0,    0,    0,    0,    0,    0,    0,    0,\n",
              "           0,    0,    0,    0,    0,    0,    0,    0,    0,    0,    0,\n",
              "           0,    0,    0,    0,    0,    0,    0,    0,    0,    0,    0,\n",
              "           0,    0,    0,    0,    0,    0,    0,    0,    0,    0,    0,\n",
              "           0,    0,    0,    0,    0,    0,    0,    0,    0,    0,    0,\n",
              "           0,    0,    0,    0,    0,    0,    0,    0,    0,    0,    0,\n",
              "           0,    0,    0,    0,    0,    0,    0,    0,    0,    0,    0,\n",
              "           0,    0,    0,    0,    0,    0,    0,    0,    0,    0,    0,\n",
              "           0,    0,    0,    0,    0,    0,    0,    0,    0,    0,    0,\n",
              "           0,    0,    0,    0,    0,    0,    0,    0,    0,    0,    0,\n",
              "           0,    0,    0,    0,    0,    0,    0,    0,    0,    0,    0,\n",
              "           0,    0,    0,    0,    0,    0,    0,    0,    0,    0,    0,\n",
              "           0,    0,    0,    0,    0,    0,    0,    0,    0,    0,    0,\n",
              "           0,    0,    0,    0,    0,    0,    0,    0,    0,    0,    0,\n",
              "           0,    0,    0,    0,    0,    0,    0,    0,    0,    0,    0,\n",
              "           0,    0,    0,    0,    0,    0,    0,    0,    0,    0,    0,\n",
              "           0,    0,    0,    0,    0,    0,    0,    0,    0,    0,    0,\n",
              "           0,    0,    0,    0,    0,    0,    0,    0,    0,    0,    0,\n",
              "           0,    0,    0,    0,    0,    0,    0,    0,    0,    0,    0,\n",
              "           0,    0,    0,    0,    0,    0,    0,    0,    0,    0,    0,\n",
              "           0,    0,    0,    0,    0,    0,    0,    0,    0,    0,    0,\n",
              "           0,    0,    0,    0,    0,    0,    0,    0,    0,    0,    0,\n",
              "           0,    0,    0,    0,    0,    0,    0,    0,    0,    0,    0,\n",
              "           0,    0,    0,    0,    0,    0,    0,    0,    0,    0,    0,\n",
              "           0,    0,    0,    0,    0,    0,    0,    0,    0,    0,    0,\n",
              "           0,    0,    0,    0,    0,    0,    0,    0,    0,    0,    0,\n",
              "           0,    0,    0,    0,    0,    0,    0,    0,    0,    0,    0,\n",
              "           0,    0,    0,    0,    0,    0,    0,    0,    0,    0,    0,\n",
              "           0,    0,    0,    0,    0,    0,    0,    0,    0,    0,    0,\n",
              "           0,    0,    0,    0,    0,    0,    0,    0,    0,    0,    0,\n",
              "           0,    0,    0,    0,    0,    0,    0,    0,    0,    0,    0,\n",
              "           0,    0,    0,    0,    0,    0,    0,    0,    0,    0,    0,\n",
              "           0,    0,    0,    0,    0,    0,    0,    0,    0,    0,    0,\n",
              "           0,    0,    0,    0,    0,    0,    0,    0,    0,    0,    0,\n",
              "           0,    0,    0,    0,    0,    0,    0,    0,    0,    0,    0,\n",
              "           0,    0,    0,    0,    0,    0,    0,    0,    0,    0,    0,\n",
              "           0,    0,    0,    0,    0,    0,    0,    0,    0,    0,    0,\n",
              "           0,    0,    0,    0,    0,    0,    0,    0,    0,    0,    0,\n",
              "           0,    0,    0,    0,    0,    0,    0,    0,    0,    0,    0,\n",
              "           0,    0,    0,    0,    0,    0,    0,    0,    0,    0,    0,\n",
              "           0,    0,    0,    0,    0,    0,    0,    0,    0,    0,    0,\n",
              "           0,    0,    0,    0,    0,    0,    0,    0,    0,    0,    0,\n",
              "           0,    0,    0,    0,    0,    0,    0,    0,    0,    0,    0,\n",
              "           0,    0,    0,    0,    0]], dtype=int32)"
            ]
          },
          "metadata": {
            "tags": []
          },
          "execution_count": 71
        }
      ]
    },
    {
      "cell_type": "code",
      "metadata": {
        "id": "jEPXxwJuaY0l",
        "outputId": "40ebfe9e-4f8e-425c-8612-72bb6f800cb7",
        "colab": {
          "base_uri": "https://localhost:8080/"
        }
      },
      "source": [
        "model.predict_classes(scam_review)"
      ],
      "execution_count": null,
      "outputs": [
        {
          "output_type": "execute_result",
          "data": {
            "text/plain": [
              "array([[1]], dtype=int32)"
            ]
          },
          "metadata": {
            "tags": []
          },
          "execution_count": 72
        }
      ]
    }
  ]
}